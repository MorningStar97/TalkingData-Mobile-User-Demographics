{
 "cells": [
  {
   "cell_type": "code",
   "execution_count": 8,
   "metadata": {},
   "outputs": [],
   "source": [
    "train = pd.read_csv('../data/gender_age_train.csv', index_col='device_id')"
   ]
  },
  {
   "cell_type": "code",
   "execution_count": 9,
   "metadata": {},
   "outputs": [
    {
     "data": {
      "text/plain": [
       "device_id\n",
       "-8076087639492063270    M32-38\n",
       "-2897161552818060146    M32-38\n",
       "-8260683887967679142    M32-38\n",
       "-4938849341048082022    M29-31\n",
       " 245133531816851882     M29-31\n",
       "-1297074871525174196    F24-26\n",
       " 236877999787307864     M32-38\n",
       "-8098239495777311881    M32-38\n",
       " 176515041953473526     M32-38\n",
       " 1596610250680140042    F33-42\n",
       " 9032155484127182494    M29-31\n",
       " 7477216237379271436    F33-42\n",
       " 2478205222798310601    F27-28\n",
       " 6352067998666467520    M32-38\n",
       "-7605360767281960867      M39+\n",
       " 1508636020748379883    F27-28\n",
       " 4380872794486415327    M32-38\n",
       "-1039701474753771322    M32-38\n",
       "-6876541075223249434      M39+\n",
       " 6287938418661076759    M32-38\n",
       "-6029676723224952628    F33-42\n",
       " 8026504930081700361    M23-26\n",
       " 1118970699362079126    M23-26\n",
       "-7271319853104672050    M27-28\n",
       "-9216966316587614491    M29-31\n",
       "-4913644674161904021    M32-38\n",
       " 2313145512701915151    M32-38\n",
       " 4309468945717577632    F33-42\n",
       "-4547337748907986143    M32-38\n",
       "-7216269352973401877    M32-38\n",
       "                         ...  \n",
       " 7826033719277536366    M27-28\n",
       " 8939634378631061484    M29-31\n",
       " 1676125742207316285    F27-28\n",
       " 2627933310180294504    M29-31\n",
       " 7176422141809079294    M23-26\n",
       "-877731366874189491       M22-\n",
       "-1324027033843938692      M22-\n",
       "-3569962198902678507      F43+\n",
       " 2032262288045492186    F29-32\n",
       "-6220019934264142137    M29-31\n",
       "-4071460957162948519    F27-28\n",
       " 8012242415081116163    F29-32\n",
       "-7513478293429751074      F43+\n",
       " 2918022610076499795    M23-26\n",
       " 442105793738318663     M32-38\n",
       "-2510601842775405069      F23-\n",
       "-2572857383593438598      F23-\n",
       "-5804749754315732086    M32-38\n",
       "-4229815843211107303      M39+\n",
       "-8331157719771660970      M39+\n",
       " 1728576663562073800    M32-38\n",
       " 8116314513428390753    M23-26\n",
       "-3539330294838027409    M23-26\n",
       " 5645813107043557722      F43+\n",
       "-4752726726975186730    M23-26\n",
       " 4682031842235089751    M29-31\n",
       "-9178703742877135986    M29-31\n",
       " 180946546684162312       M22-\n",
       " 1390702386071991851    M32-38\n",
       " 89181010588227347      M23-26\n",
       "Name: group, Length: 74645, dtype: object"
      ]
     },
     "execution_count": 9,
     "metadata": {},
     "output_type": "execute_result"
    }
   ],
   "source": [
    "train['group']"
   ]
  },
  {
   "cell_type": "markdown",
   "metadata": {},
   "source": [
    "# Import libraries"
   ]
  },
  {
   "cell_type": "code",
   "execution_count": 2,
   "metadata": {},
   "outputs": [
    {
     "name": "stderr",
     "output_type": "stream",
     "text": [
      "C:\\Users\\Student\\Anaconda3\\lib\\site-packages\\h5py\\__init__.py:36: FutureWarning: Conversion of the second argument of issubdtype from `float` to `np.floating` is deprecated. In future, it will be treated as `np.float64 == np.dtype(float).type`.\n",
      "  from ._conv import register_converters as _register_converters\n",
      "Using TensorFlow backend.\n"
     ]
    }
   ],
   "source": [
    "import numpy as np\n",
    "import pandas as pd\n",
    "import matplotlib.pyplot as plt\n",
    "%matplotlib inline\n",
    "from sklearn import preprocessing\n",
    "from sklearn.ensemble import ExtraTreesClassifier, RandomForestRegressor\n",
    "from sklearn.ensemble.forest import RandomForestClassifier\n",
    "from sklearn.feature_selection import SelectFromModel\n",
    "from keras.models import Sequential, load_model\n",
    "from keras.layers import Activation,Dense,Dropout,BatchNormalization,PReLU\n",
    "from keras.optimizers import SGD\n",
    "from sklearn.model_selection import train_test_split, GridSearchCV\n",
    "import xgboost as xgb\n",
    "import math\n",
    "from sklearn.metrics import r2_score, mean_squared_error"
   ]
  },
  {
   "cell_type": "markdown",
   "metadata": {},
   "source": [
    "# Preprocessing"
   ]
  },
  {
   "cell_type": "markdown",
   "metadata": {},
   "source": [
    "#### Read train and test data "
   ]
  },
  {
   "cell_type": "code",
   "execution_count": 7,
   "metadata": {},
   "outputs": [
    {
     "name": "stdout",
     "output_type": "stream",
     "text": [
      "(74645, 12714)\n",
      "(112071, 12714)\n"
     ]
    }
   ],
   "source": [
    "df_train_x = pd.read_csv('../matrix_for_model/train_x.csv', index_col='device_id')\n",
    "print(df_train_x.shape)\n",
    "\n",
    "df_test_x = pd.read_csv('../matrix_for_model/test_x.csv', index_col='device_id')\n",
    "print(df_test_x.shape)"
   ]
  },
  {
   "cell_type": "markdown",
   "metadata": {},
   "source": [
    "#### Save index"
   ]
  },
  {
   "cell_type": "code",
   "execution_count": 8,
   "metadata": {},
   "outputs": [
    {
     "name": "stdout",
     "output_type": "stream",
     "text": [
      "(74645,)\n",
      "(112071,)\n"
     ]
    }
   ],
   "source": [
    "df_train_id = df_train_x.index\n",
    "print(df_train_id.shape)\n",
    "\n",
    "df_test_id = df_test_x.index\n",
    "print(df_test_id.shape)"
   ]
  },
  {
   "cell_type": "markdown",
   "metadata": {},
   "source": [
    "#### Normalization"
   ]
  },
  {
   "cell_type": "code",
   "execution_count": 28,
   "metadata": {},
   "outputs": [],
   "source": [
    "array_train_x = preprocessing.normalize(df_train_x)\n",
    "array_test_x = preprocessing.normalize(df_test_x) "
   ]
  },
  {
   "cell_type": "markdown",
   "metadata": {},
   "source": [
    "#### Standardization"
   ]
  },
  {
   "cell_type": "code",
   "execution_count": 10,
   "metadata": {},
   "outputs": [],
   "source": [
    "# scaler_train = preprocessing.StandardScaler()\n",
    "# scaler_train = scaler_train.fit(df_train_x)\n",
    "# array_train_x = scaler_train.transform(df_train_x)\n",
    "\n",
    "# scaler_test = preprocessing.StandardScaler()\n",
    "# scaler_test = scaler_test.fit(df_test_x)\n",
    "# array_test_x = scaler_test.transform(df_test_x)"
   ]
  },
  {
   "cell_type": "markdown",
   "metadata": {},
   "source": [
    "#### Prepare train_y"
   ]
  },
  {
   "cell_type": "code",
   "execution_count": 3,
   "metadata": {},
   "outputs": [
    {
     "name": "stdout",
     "output_type": "stream",
     "text": [
      "(74645, 1)\n"
     ]
    }
   ],
   "source": [
    "df_train_y = pd.read_csv('../matrix_for_model/train_y.csv', header=None)\n",
    "print(df_train_y.shape)"
   ]
  },
  {
   "cell_type": "code",
   "execution_count": 63,
   "metadata": {},
   "outputs": [
    {
     "data": {
      "text/plain": [
       "(74645, 12)"
      ]
     },
     "execution_count": 63,
     "metadata": {},
     "output_type": "execute_result"
    }
   ],
   "source": [
    "df_train_y_onehot = pd.get_dummies(df_train_y)\n",
    "array_train_y = df_train_y_onehot.values\n",
    "array_train_y.shape"
   ]
  },
  {
   "cell_type": "markdown",
   "metadata": {},
   "source": [
    "#### Feature selection according to random forest"
   ]
  },
  {
   "cell_type": "code",
   "execution_count": 29,
   "metadata": {},
   "outputs": [
    {
     "name": "stdout",
     "output_type": "stream",
     "text": [
      "clf.feature_importances_ : [0.00000000e+00 4.86535095e-05 5.76219944e-04 ... 0.00000000e+00\n",
      " 0.00000000e+00 0.00000000e+00]\n"
     ]
    }
   ],
   "source": [
    "clf = ExtraTreesClassifier(random_state=1).fit(array_train_x, array_train_y)\n",
    "print(\"clf.feature_importances_ :\",clf.feature_importances_)"
   ]
  },
  {
   "cell_type": "code",
   "execution_count": 30,
   "metadata": {},
   "outputs": [
    {
     "data": {
      "text/plain": [
       "(74645, 1581)"
      ]
     },
     "execution_count": 30,
     "metadata": {},
     "output_type": "execute_result"
    }
   ],
   "source": [
    "col_filter = SelectFromModel(clf,prefit=True,threshold=1.0*(clf.feature_importances_.mean()))\n",
    "array_train_x = col_filter.transform(array_train_x)\n",
    "array_train_x.shape"
   ]
  },
  {
   "cell_type": "code",
   "execution_count": 31,
   "metadata": {},
   "outputs": [
    {
     "data": {
      "text/plain": [
       "(112071, 1581)"
      ]
     },
     "execution_count": 31,
     "metadata": {},
     "output_type": "execute_result"
    }
   ],
   "source": [
    "array_test_x = col_filter.transform(array_test_x)\n",
    "array_test_x.shape"
   ]
  },
  {
   "cell_type": "markdown",
   "metadata": {},
   "source": [
    "# Model"
   ]
  },
  {
   "cell_type": "markdown",
   "metadata": {},
   "source": [
    "#### Define function of submit dataframe"
   ]
  },
  {
   "cell_type": "code",
   "execution_count": 32,
   "metadata": {},
   "outputs": [],
   "source": [
    "def submit_df(df_test_id, array_test_y):\n",
    "    cols = ['device_id', 'F23-','F24-26','F27-28','F29-32','F33-42','F43+','M22-','M23-26','M27-28','M29-31','M32-38','M39+']\n",
    "    df_result = pd.DataFrame(columns=cols)\n",
    "    df_result['device_id'] = df_test_id\n",
    "    df_result[['F23-','F24-26','F27-28','F29-32','F33-42','F43+','M22-','M23-26','M27-28','M29-31','M32-38','M39+']] = array_test_y\n",
    "    return df_result"
   ]
  },
  {
   "cell_type": "markdown",
   "metadata": {},
   "source": [
    "## 1. Backpropagation Neural Network "
   ]
  },
  {
   "cell_type": "markdown",
   "metadata": {},
   "source": [
    "#### Define model"
   ]
  },
  {
   "cell_type": "code",
   "execution_count": 28,
   "metadata": {},
   "outputs": [],
   "source": [
    "def nn_modeling(train_x):\n",
    "    model = Sequential()\n",
    "    model.add(Dense(200, input_dim=train_x.shape[1], init='normal'))\n",
    "    model.add(PReLU())\n",
    "    model.add(Dropout(0.4))\n",
    "    model.add(Dense(50, init='normal'))\n",
    "    model.add(PReLU())\n",
    "    model.add(Dropout(0.2))\n",
    "    model.add(Dense(12, init='normal', activation='softmax'))\n",
    "    # Compile model\n",
    "    model.compile(loss='categorical_crossentropy', optimizer='Adam', metrics=['accuracy'])\n",
    "    return model"
   ]
  },
  {
   "cell_type": "markdown",
   "metadata": {},
   "source": [
    "#### Train model"
   ]
  },
  {
   "cell_type": "code",
   "execution_count": 29,
   "metadata": {},
   "outputs": [
    {
     "name": "stderr",
     "output_type": "stream",
     "text": [
      "/opt/intel/intelpython3/lib/python3.6/site-packages/ipykernel_launcher.py:3: UserWarning: Update your `Dense` call to the Keras 2 API: `Dense(200, input_dim=12714, kernel_initializer=\"normal\")`\n",
      "  This is separate from the ipykernel package so we can avoid doing imports until\n",
      "/opt/intel/intelpython3/lib/python3.6/site-packages/ipykernel_launcher.py:6: UserWarning: Update your `Dense` call to the Keras 2 API: `Dense(50, kernel_initializer=\"normal\")`\n",
      "  \n",
      "/opt/intel/intelpython3/lib/python3.6/site-packages/ipykernel_launcher.py:9: UserWarning: Update your `Dense` call to the Keras 2 API: `Dense(12, activation=\"softmax\", kernel_initializer=\"normal\")`\n",
      "  if __name__ == '__main__':\n"
     ]
    }
   ],
   "source": [
    "nn_model = nn_modeling(array_train_x)"
   ]
  },
  {
   "cell_type": "code",
   "execution_count": 30,
   "metadata": {},
   "outputs": [
    {
     "name": "stdout",
     "output_type": "stream",
     "text": [
      "Train on 67180 samples, validate on 7465 samples\n",
      "Epoch 1/7\n",
      "67180/67180 [==============================] - 48s 711us/step - loss: 2.4196 - acc: 0.1360 - val_loss: 2.3244 - val_acc: 0.1691\n",
      "Epoch 2/7\n",
      "67180/67180 [==============================] - 44s 654us/step - loss: 2.3521 - acc: 0.1676 - val_loss: 2.2820 - val_acc: 0.1914\n",
      "Epoch 3/7\n",
      "67180/67180 [==============================] - 46s 685us/step - loss: 2.3180 - acc: 0.1778 - val_loss: 2.2776 - val_acc: 0.1886\n",
      "Epoch 4/7\n",
      "67180/67180 [==============================] - 55s 824us/step - loss: 2.2962 - acc: 0.1881 - val_loss: 2.2767 - val_acc: 0.1875\n",
      "Epoch 5/7\n",
      "67180/67180 [==============================] - 54s 800us/step - loss: 2.2782 - acc: 0.1970 - val_loss: 2.2792 - val_acc: 0.1909\n",
      "Epoch 6/7\n",
      "67180/67180 [==============================] - 47s 704us/step - loss: 2.2613 - acc: 0.2027 - val_loss: 2.2788 - val_acc: 0.1989\n",
      "Epoch 7/7\n",
      "67180/67180 [==============================] - 48s 717us/step - loss: 2.2450 - acc: 0.2091 - val_loss: 2.2831 - val_acc: 0.1976\n"
     ]
    },
    {
     "data": {
      "image/png": "[encoded data removed]",
      "text/plain": [
       "<Figure size 432x288 with 1 Axes>"
      ]
     },
     "metadata": {
      "needs_background": "light"
     },
     "output_type": "display_data"
    }
   ],
   "source": [
    "history = nn_model.fit(array_train_x, array_train_y, validation_split=0.1, batch_size=512, epochs=7)\n",
    "plt.plot(history.history['acc'],ms=5,marker='o',label='train accuracy')\n",
    "plt.plot(history.history['val_acc'],ms=5,marker='o',label='val accuracy')\n",
    "plt.legend()\n",
    "plt.show()"
   ]
  },
  {
   "cell_type": "markdown",
   "metadata": {},
   "source": [
    "#### Predict test data"
   ]
  },
  {
   "cell_type": "code",
   "execution_count": 32,
   "metadata": {},
   "outputs": [],
   "source": [
    "array_test_y = nn_model.predict(array_test_x)\n",
    "df_result = submit_df(df_test_id, array_test_y)\n",
    "df_result.to_csv('../submit/nn_result.csv', index=False)"
   ]
  },
  {
   "cell_type": "markdown",
   "metadata": {},
   "source": [
    "## 2. Random Forest"
   ]
  },
  {
   "cell_type": "markdown",
   "metadata": {},
   "source": [
    "#### Define model"
   ]
  },
  {
   "cell_type": "code",
   "execution_count": 33,
   "metadata": {},
   "outputs": [],
   "source": [
    "def rf_modeling(train_x, train_y):\n",
    "    rf = RandomForestRegressor()\n",
    "    param_grid = { \n",
    "    'bootstrap': [True],\n",
    "    'max_depth': [100],\n",
    "    'max_features': [3],\n",
    "    'min_samples_leaf': [4],\n",
    "    'min_samples_split': [10],\n",
    "    'n_estimators': [500]\n",
    "    }\n",
    "    grid_rf = GridSearchCV(rf, param_grid, n_jobs=-1, cv=3)\n",
    "    model = grid_rf.fit(train_x, train_y)\n",
    "    return model"
   ]
  },
  {
   "cell_type": "markdown",
   "metadata": {},
   "source": [
    "#### Train model"
   ]
  },
  {
   "cell_type": "code",
   "execution_count": 36,
   "metadata": {},
   "outputs": [
    {
     "name": "stdout",
     "output_type": "stream",
     "text": [
      "env: JOBLIB_TEMP_FOLDER=/tmp\n"
     ]
    }
   ],
   "source": [
    "# %env JOBLIB_TEMP_FOLDER=/tmp\n",
    "forest_model = rf_modeling(array_train_x, array_train_y)"
   ]
  },
  {
   "cell_type": "markdown",
   "metadata": {},
   "source": [
    "#### Predict test data"
   ]
  },
  {
   "cell_type": "code",
   "execution_count": 37,
   "metadata": {},
   "outputs": [],
   "source": [
    "array_test_y = forest_model.predict(array_test_x)\n",
    "df_result = submit_df(df_test_id, array_test_y)\n",
    "df_result.to_csv('../submit/forest_result.csv', index=False)"
   ]
  },
  {
   "cell_type": "markdown",
   "metadata": {},
   "source": [
    "## 3. XGBoost"
   ]
  },
  {
   "cell_type": "markdown",
   "metadata": {},
   "source": [
    "#### Factorize train_y"
   ]
  },
  {
   "cell_type": "code",
   "execution_count": 67,
   "metadata": {},
   "outputs": [
    {
     "name": "stdout",
     "output_type": "stream",
     "text": [
      "[0 0 0 ... 8 0 6]\n",
      "Index(['M32-38', 'M29-31', 'F24-26', 'F33-42', 'F27-28', 'M39+', 'M23-26',\n",
      "       'M27-28', 'M22-', 'F43+', 'F23-', 'F29-32'],\n",
      "      dtype='object')\n"
     ]
    }
   ],
   "source": [
    "factor = pd.factorize(df_train_y[0])\n",
    "array_train_y = factor[0]\n",
    "definitions = factor[1]\n",
    "print(array_train_y)\n",
    "print(definitions)"
   ]
  },
  {
   "cell_type": "markdown",
   "metadata": {},
   "source": [
    "#### Split train to 90% for training and 10% for validation"
   ]
  },
  {
   "cell_type": "code",
   "execution_count": 68,
   "metadata": {},
   "outputs": [
    {
     "name": "stdout",
     "output_type": "stream",
     "text": [
      "(67180, 1581)\n",
      "(67180,)\n",
      "(7465, 1581)\n",
      "(7465,)\n"
     ]
    }
   ],
   "source": [
    "train_x, val_x, train_y, val_y = train_test_split(array_train_x, array_train_y, test_size=0.1)\n",
    "print(train_x.shape)\n",
    "print(train_y.shape)\n",
    "print(val_x.shape)\n",
    "print(val_y.shape)"
   ]
  },
  {
   "cell_type": "markdown",
   "metadata": {},
   "source": [
    "#### Define model"
   ]
  },
  {
   "cell_type": "code",
   "execution_count": 69,
   "metadata": {},
   "outputs": [],
   "source": [
    "def xgb_modeling(train_x, train_y, val_x, val_y):\n",
    "    # Save data to xgb.DMatrix\n",
    "    data_val  = xgb.DMatrix(val_x, label=val_y)\n",
    "    data_train = xgb.DMatrix(train_x, label=train_y)\n",
    "    \n",
    "    #Set parameters\n",
    "    param = {}\n",
    "    param['booster']='gbtree'\n",
    "    param['objective'] = 'multi:softprob'\n",
    "    param['tree_method'] = 'hist'\n",
    "    param['silent']=1\n",
    "    param['max_depth']= 6\n",
    "    param['num_class'] = 12\n",
    "    \n",
    "    eval_list  = [(data_train,'train'),(data_val,'validation')]\n",
    "    num_round = 20\n",
    "    eval_history={}\n",
    "\n",
    "    # Train model\n",
    "    xgb_model = xgb.train(param, data_train, num_round, eval_list, \n",
    "                          evals_result=eval_history, verbose_eval=False)\n",
    "    \n",
    "    #Show process\n",
    "    mlogloss_train=eval_history['train']['mlogloss']\n",
    "    mlogloss_validation=eval_history['validation']['mlogloss']\n",
    "    plt.plot(mlogloss_train,ms=10,marker='.',label='train_eval')\n",
    "    plt.plot(mlogloss_validation,ms=10,marker='v',label='validation_eval')\n",
    "    plt.legend()\n",
    "    plt.show()\n",
    "    \n",
    "    # Evaluate result\n",
    "    print(\"mlogloss:\", xgb_model.eval(data_val))\n",
    "  \n",
    "    return xgb_model"
   ]
  },
  {
   "cell_type": "markdown",
   "metadata": {},
   "source": [
    "#### Train model"
   ]
  },
  {
   "cell_type": "code",
   "execution_count": 70,
   "metadata": {},
   "outputs": [],
   "source": [
    "xgb_model = xgb_modeling(train_x, train_y, val_x, val_y)"
   ]
  },
  {
   "cell_type": "markdown",
   "metadata": {},
   "source": [
    "#### Predict test data"
   ]
  },
  {
   "cell_type": "code",
   "execution_count": 72,
   "metadata": {},
   "outputs": [],
   "source": [
    "x = xgb.DMatrix(array_test_x)\n",
    "array_test_y = xgb_model.predict(x)\n",
    "df_result = submit_df(df_test_id, array_test_y)\n",
    "df_result.to_csv('../submit/xgb_result.csv', index=False)"
   ]
  }
 ],
 "metadata": {
  "kernelspec": {
   "display_name": "Python 3",
   "language": "python",
   "name": "python3"
  },
  "language_info": {
   "codemirror_mode": {
    "name": "ipython",
    "version": 3
   },
   "file_extension": ".py",
   "mimetype": "text/x-python",
   "name": "python",
   "nbconvert_exporter": "python",
   "pygments_lexer": "ipython3",
   "version": "3.6.5"
  }
 },
 "nbformat": 4,
 "nbformat_minor": 2
}
