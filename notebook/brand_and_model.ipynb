{
 "cells": [
  {
   "cell_type": "markdown",
   "metadata": {},
   "source": [
    "# Import libraries"
   ]
  },
  {
   "cell_type": "code",
   "execution_count": 1,
   "metadata": {},
   "outputs": [],
   "source": [
    "import numpy as np\n",
    "import pandas as pd"
   ]
  },
  {
   "cell_type": "markdown",
   "metadata": {},
   "source": [
    "# phone_brand_device_model"
   ]
  },
  {
   "cell_type": "markdown",
   "metadata": {},
   "source": [
    "#### Read data"
   ]
  },
  {
   "cell_type": "code",
   "execution_count": 2,
   "metadata": {},
   "outputs": [
    {
     "data": {
      "text/plain": [
       "(187245, 3)"
      ]
     },
     "execution_count": 2,
     "metadata": {},
     "output_type": "execute_result"
    }
   ],
   "source": [
    "df_brand = pd.read_csv(\"../data/phone_brand_device_model.csv\")\n",
    "df_brand.shape"
   ]
  },
  {
   "cell_type": "markdown",
   "metadata": {},
   "source": [
    "#### Check duplicated data"
   ]
  },
  {
   "cell_type": "code",
   "execution_count": 3,
   "metadata": {},
   "outputs": [
    {
     "name": "stdout",
     "output_type": "stream",
     "text": [
      "Numbers of duplicated data: 529\n"
     ]
    },
    {
     "data": {
      "text/plain": [
       "(186716, 3)"
      ]
     },
     "execution_count": 3,
     "metadata": {},
     "output_type": "execute_result"
    }
   ],
   "source": [
    "print('Numbers of duplicated data:', df_brand.duplicated('device_id').sum())\n",
    "df_brand.drop_duplicates('device_id', keep='first', inplace=True)\n",
    "df_brand.shape"
   ]
  },
  {
   "cell_type": "markdown",
   "metadata": {},
   "source": [
    "#### Check missing data"
   ]
  },
  {
   "cell_type": "code",
   "execution_count": 4,
   "metadata": {},
   "outputs": [
    {
     "data": {
      "text/plain": [
       "device_id       False\n",
       "phone_brand     False\n",
       "device_model    False\n",
       "dtype: bool"
      ]
     },
     "execution_count": 4,
     "metadata": {},
     "output_type": "execute_result"
    }
   ],
   "source": [
    "df_brand.isnull().any()"
   ]
  },
  {
   "cell_type": "markdown",
   "metadata": {},
   "source": [
    "#### One-hot encoding "
   ]
  },
  {
   "cell_type": "code",
   "execution_count": 5,
   "metadata": {},
   "outputs": [
    {
     "data": {
      "text/html": [
       "<div>\n",
       "<style scoped>\n",
       "    .dataframe tbody tr th:only-of-type {\n",
       "        vertical-align: middle;\n",
       "    }\n",
       "\n",
       "    .dataframe tbody tr th {\n",
       "        vertical-align: top;\n",
       "    }\n",
       "\n",
       "    .dataframe thead th {\n",
       "        text-align: right;\n",
       "    }\n",
       "</style>\n",
       "<table border=\"1\" class=\"dataframe\">\n",
       "  <thead>\n",
       "    <tr style=\"text-align: right;\">\n",
       "      <th></th>\n",
       "      <th>device_id</th>\n",
       "      <th>phone_brand_E人E本</th>\n",
       "      <th>phone_brand_E派</th>\n",
       "      <th>phone_brand_HTC</th>\n",
       "      <th>phone_brand_LG</th>\n",
       "      <th>phone_brand_LOGO</th>\n",
       "      <th>phone_brand_Lovme</th>\n",
       "      <th>phone_brand_MIL</th>\n",
       "      <th>phone_brand_OPPO</th>\n",
       "      <th>phone_brand_PPTV</th>\n",
       "      <th>...</th>\n",
       "      <th>device_model_魅蓝Note3</th>\n",
       "      <th>device_model_魅蓝metal</th>\n",
       "      <th>device_model_魔镜 X5</th>\n",
       "      <th>device_model_麦芒3</th>\n",
       "      <th>device_model_麦芒3S</th>\n",
       "      <th>device_model_麦芒4</th>\n",
       "      <th>device_model_黄金斗士A8</th>\n",
       "      <th>device_model_黄金斗士Note8</th>\n",
       "      <th>device_model_黄金斗士S8畅玩版</th>\n",
       "      <th>device_model_黄金斗士青春版</th>\n",
       "    </tr>\n",
       "  </thead>\n",
       "  <tbody>\n",
       "    <tr>\n",
       "      <th>0</th>\n",
       "      <td>-8890648629457979026</td>\n",
       "      <td>0</td>\n",
       "      <td>0</td>\n",
       "      <td>0</td>\n",
       "      <td>0</td>\n",
       "      <td>0</td>\n",
       "      <td>0</td>\n",
       "      <td>0</td>\n",
       "      <td>0</td>\n",
       "      <td>0</td>\n",
       "      <td>...</td>\n",
       "      <td>0</td>\n",
       "      <td>0</td>\n",
       "      <td>0</td>\n",
       "      <td>0</td>\n",
       "      <td>0</td>\n",
       "      <td>0</td>\n",
       "      <td>0</td>\n",
       "      <td>0</td>\n",
       "      <td>0</td>\n",
       "      <td>0</td>\n",
       "    </tr>\n",
       "    <tr>\n",
       "      <th>1</th>\n",
       "      <td>1277779817574759137</td>\n",
       "      <td>0</td>\n",
       "      <td>0</td>\n",
       "      <td>0</td>\n",
       "      <td>0</td>\n",
       "      <td>0</td>\n",
       "      <td>0</td>\n",
       "      <td>0</td>\n",
       "      <td>0</td>\n",
       "      <td>0</td>\n",
       "      <td>...</td>\n",
       "      <td>0</td>\n",
       "      <td>0</td>\n",
       "      <td>0</td>\n",
       "      <td>0</td>\n",
       "      <td>0</td>\n",
       "      <td>0</td>\n",
       "      <td>0</td>\n",
       "      <td>0</td>\n",
       "      <td>0</td>\n",
       "      <td>0</td>\n",
       "    </tr>\n",
       "    <tr>\n",
       "      <th>2</th>\n",
       "      <td>5137427614288105724</td>\n",
       "      <td>0</td>\n",
       "      <td>0</td>\n",
       "      <td>0</td>\n",
       "      <td>0</td>\n",
       "      <td>0</td>\n",
       "      <td>0</td>\n",
       "      <td>0</td>\n",
       "      <td>0</td>\n",
       "      <td>0</td>\n",
       "      <td>...</td>\n",
       "      <td>0</td>\n",
       "      <td>0</td>\n",
       "      <td>0</td>\n",
       "      <td>0</td>\n",
       "      <td>0</td>\n",
       "      <td>0</td>\n",
       "      <td>0</td>\n",
       "      <td>0</td>\n",
       "      <td>0</td>\n",
       "      <td>0</td>\n",
       "    </tr>\n",
       "    <tr>\n",
       "      <th>3</th>\n",
       "      <td>3669464369358936369</td>\n",
       "      <td>0</td>\n",
       "      <td>0</td>\n",
       "      <td>0</td>\n",
       "      <td>0</td>\n",
       "      <td>0</td>\n",
       "      <td>0</td>\n",
       "      <td>0</td>\n",
       "      <td>0</td>\n",
       "      <td>0</td>\n",
       "      <td>...</td>\n",
       "      <td>0</td>\n",
       "      <td>0</td>\n",
       "      <td>0</td>\n",
       "      <td>0</td>\n",
       "      <td>0</td>\n",
       "      <td>0</td>\n",
       "      <td>0</td>\n",
       "      <td>0</td>\n",
       "      <td>0</td>\n",
       "      <td>0</td>\n",
       "    </tr>\n",
       "    <tr>\n",
       "      <th>4</th>\n",
       "      <td>-5019277647504317457</td>\n",
       "      <td>0</td>\n",
       "      <td>0</td>\n",
       "      <td>0</td>\n",
       "      <td>0</td>\n",
       "      <td>0</td>\n",
       "      <td>0</td>\n",
       "      <td>0</td>\n",
       "      <td>0</td>\n",
       "      <td>0</td>\n",
       "      <td>...</td>\n",
       "      <td>0</td>\n",
       "      <td>0</td>\n",
       "      <td>0</td>\n",
       "      <td>0</td>\n",
       "      <td>0</td>\n",
       "      <td>0</td>\n",
       "      <td>0</td>\n",
       "      <td>0</td>\n",
       "      <td>0</td>\n",
       "      <td>0</td>\n",
       "    </tr>\n",
       "  </tbody>\n",
       "</table>\n",
       "<p>5 rows × 1731 columns</p>\n",
       "</div>"
      ],
      "text/plain": [
       "             device_id  phone_brand_E人E本  phone_brand_E派  phone_brand_HTC  \\\n",
       "0 -8890648629457979026                 0               0                0   \n",
       "1  1277779817574759137                 0               0                0   \n",
       "2  5137427614288105724                 0               0                0   \n",
       "3  3669464369358936369                 0               0                0   \n",
       "4 -5019277647504317457                 0               0                0   \n",
       "\n",
       "   phone_brand_LG  phone_brand_LOGO  phone_brand_Lovme  phone_brand_MIL  \\\n",
       "0               0                 0                  0                0   \n",
       "1               0                 0                  0                0   \n",
       "2               0                 0                  0                0   \n",
       "3               0                 0                  0                0   \n",
       "4               0                 0                  0                0   \n",
       "\n",
       "   phone_brand_OPPO  phone_brand_PPTV          ...           \\\n",
       "0                 0                 0          ...            \n",
       "1                 0                 0          ...            \n",
       "2                 0                 0          ...            \n",
       "3                 0                 0          ...            \n",
       "4                 0                 0          ...            \n",
       "\n",
       "   device_model_魅蓝Note3  device_model_魅蓝metal  device_model_魔镜 X5  \\\n",
       "0                     0                     0                   0   \n",
       "1                     0                     0                   0   \n",
       "2                     0                     0                   0   \n",
       "3                     0                     0                   0   \n",
       "4                     0                     0                   0   \n",
       "\n",
       "   device_model_麦芒3  device_model_麦芒3S  device_model_麦芒4  device_model_黄金斗士A8  \\\n",
       "0                 0                  0                 0                    0   \n",
       "1                 0                  0                 0                    0   \n",
       "2                 0                  0                 0                    0   \n",
       "3                 0                  0                 0                    0   \n",
       "4                 0                  0                 0                    0   \n",
       "\n",
       "   device_model_黄金斗士Note8  device_model_黄金斗士S8畅玩版  device_model_黄金斗士青春版  \n",
       "0                       0                       0                     0  \n",
       "1                       0                       0                     0  \n",
       "2                       0                       0                     0  \n",
       "3                       0                       0                     0  \n",
       "4                       0                       0                     0  \n",
       "\n",
       "[5 rows x 1731 columns]"
      ]
     },
     "execution_count": 5,
     "metadata": {},
     "output_type": "execute_result"
    }
   ],
   "source": [
    "df_brand = pd.get_dummies(df_brand)\n",
    "df_brand.head()"
   ]
  },
  {
   "cell_type": "markdown",
   "metadata": {},
   "source": [
    "# gender_age_train"
   ]
  },
  {
   "cell_type": "markdown",
   "metadata": {},
   "source": [
    "#### Read data"
   ]
  },
  {
   "cell_type": "code",
   "execution_count": 6,
   "metadata": {},
   "outputs": [
    {
     "data": {
      "text/plain": [
       "(74645, 4)"
      ]
     },
     "execution_count": 6,
     "metadata": {},
     "output_type": "execute_result"
    }
   ],
   "source": [
    "df_train = pd.read_csv(\"../data/gender_age_train.csv\")\n",
    "df_train.shape"
   ]
  },
  {
   "cell_type": "markdown",
   "metadata": {},
   "source": [
    "#### Check duplicated data"
   ]
  },
  {
   "cell_type": "code",
   "execution_count": 7,
   "metadata": {},
   "outputs": [
    {
     "name": "stdout",
     "output_type": "stream",
     "text": [
      "Numbers of duplicated data: 0\n"
     ]
    }
   ],
   "source": [
    "print('Numbers of duplicated data:', df_train.duplicated('device_id').sum())"
   ]
  },
  {
   "cell_type": "markdown",
   "metadata": {},
   "source": [
    "#### Check missing data"
   ]
  },
  {
   "cell_type": "code",
   "execution_count": 8,
   "metadata": {},
   "outputs": [
    {
     "data": {
      "text/plain": [
       "device_id    False\n",
       "gender       False\n",
       "age          False\n",
       "group        False\n",
       "dtype: bool"
      ]
     },
     "execution_count": 8,
     "metadata": {},
     "output_type": "execute_result"
    }
   ],
   "source": [
    "df_train.isnull().any()"
   ]
  },
  {
   "cell_type": "markdown",
   "metadata": {},
   "source": [
    "# gender_age_test"
   ]
  },
  {
   "cell_type": "markdown",
   "metadata": {},
   "source": [
    "#### Read data"
   ]
  },
  {
   "cell_type": "code",
   "execution_count": 9,
   "metadata": {},
   "outputs": [
    {
     "data": {
      "text/plain": [
       "(112071, 1)"
      ]
     },
     "execution_count": 9,
     "metadata": {},
     "output_type": "execute_result"
    }
   ],
   "source": [
    "df_test = pd.read_csv(\"../data/gender_age_test.csv\")\n",
    "df_test.shape"
   ]
  },
  {
   "cell_type": "markdown",
   "metadata": {},
   "source": [
    "#### Check duplicated data"
   ]
  },
  {
   "cell_type": "code",
   "execution_count": 10,
   "metadata": {},
   "outputs": [
    {
     "name": "stdout",
     "output_type": "stream",
     "text": [
      "Numbers of duplicated data: 0\n"
     ]
    }
   ],
   "source": [
    "print('Numbers of duplicated data:', df_test.duplicated('device_id').sum())"
   ]
  },
  {
   "cell_type": "markdown",
   "metadata": {},
   "source": [
    "#### Check missing data"
   ]
  },
  {
   "cell_type": "code",
   "execution_count": 11,
   "metadata": {},
   "outputs": [
    {
     "data": {
      "text/plain": [
       "device_id    False\n",
       "dtype: bool"
      ]
     },
     "execution_count": 11,
     "metadata": {},
     "output_type": "execute_result"
    }
   ],
   "source": [
    "df_test.isnull().any()"
   ]
  },
  {
   "cell_type": "markdown",
   "metadata": {},
   "source": [
    "# Assert that test+train same as phone_brand_device_model"
   ]
  },
  {
   "cell_type": "code",
   "execution_count": 12,
   "metadata": {},
   "outputs": [],
   "source": [
    "assert (df_test.shape[0] + df_train.shape[0]) == df_brand.shape[0]"
   ]
  },
  {
   "cell_type": "markdown",
   "metadata": {},
   "source": [
    "# Merge train and phone_brand"
   ]
  },
  {
   "cell_type": "code",
   "execution_count": 13,
   "metadata": {},
   "outputs": [
    {
     "data": {
      "text/plain": [
       "(74645, 1733)"
      ]
     },
     "execution_count": 13,
     "metadata": {},
     "output_type": "execute_result"
    }
   ],
   "source": [
    "train_merge_brand = df_train.merge(df_brand, on='device_id', how='left')\n",
    "train_merge_brand.set_index('device_id', inplace=True)\n",
    "train_merge_brand.shape"
   ]
  },
  {
   "cell_type": "markdown",
   "metadata": {},
   "source": [
    "#### Create train_y"
   ]
  },
  {
   "cell_type": "code",
   "execution_count": 14,
   "metadata": {},
   "outputs": [
    {
     "data": {
      "text/plain": [
       "device_id\n",
       "-8076087639492063270    M32-38\n",
       "-2897161552818060146    M32-38\n",
       "-8260683887967679142    M32-38\n",
       "-4938849341048082022    M29-31\n",
       " 245133531816851882     M29-31\n",
       "Name: group, dtype: object"
      ]
     },
     "execution_count": 14,
     "metadata": {},
     "output_type": "execute_result"
    }
   ],
   "source": [
    "train_y = train_merge_brand['group']\n",
    "train_y.to_csv('../matrix_for_model/train_y.csv', index=False)\n",
    "train_y.head()"
   ]
  },
  {
   "cell_type": "markdown",
   "metadata": {},
   "source": [
    "#### Create dataframe of device_id and brand_and_model"
   ]
  },
  {
   "cell_type": "code",
   "execution_count": 15,
   "metadata": {},
   "outputs": [
    {
     "data": {
      "text/html": [
       "<div>\n",
       "<style scoped>\n",
       "    .dataframe tbody tr th:only-of-type {\n",
       "        vertical-align: middle;\n",
       "    }\n",
       "\n",
       "    .dataframe tbody tr th {\n",
       "        vertical-align: top;\n",
       "    }\n",
       "\n",
       "    .dataframe thead th {\n",
       "        text-align: right;\n",
       "    }\n",
       "</style>\n",
       "<table border=\"1\" class=\"dataframe\">\n",
       "  <thead>\n",
       "    <tr style=\"text-align: right;\">\n",
       "      <th></th>\n",
       "      <th>phone_brand_E人E本</th>\n",
       "      <th>phone_brand_E派</th>\n",
       "      <th>phone_brand_HTC</th>\n",
       "      <th>phone_brand_LG</th>\n",
       "      <th>phone_brand_LOGO</th>\n",
       "      <th>phone_brand_Lovme</th>\n",
       "      <th>phone_brand_MIL</th>\n",
       "      <th>phone_brand_OPPO</th>\n",
       "      <th>phone_brand_PPTV</th>\n",
       "      <th>phone_brand_SUGAR</th>\n",
       "      <th>...</th>\n",
       "      <th>device_model_魅蓝Note3</th>\n",
       "      <th>device_model_魅蓝metal</th>\n",
       "      <th>device_model_魔镜 X5</th>\n",
       "      <th>device_model_麦芒3</th>\n",
       "      <th>device_model_麦芒3S</th>\n",
       "      <th>device_model_麦芒4</th>\n",
       "      <th>device_model_黄金斗士A8</th>\n",
       "      <th>device_model_黄金斗士Note8</th>\n",
       "      <th>device_model_黄金斗士S8畅玩版</th>\n",
       "      <th>device_model_黄金斗士青春版</th>\n",
       "    </tr>\n",
       "    <tr>\n",
       "      <th>device_id</th>\n",
       "      <th></th>\n",
       "      <th></th>\n",
       "      <th></th>\n",
       "      <th></th>\n",
       "      <th></th>\n",
       "      <th></th>\n",
       "      <th></th>\n",
       "      <th></th>\n",
       "      <th></th>\n",
       "      <th></th>\n",
       "      <th></th>\n",
       "      <th></th>\n",
       "      <th></th>\n",
       "      <th></th>\n",
       "      <th></th>\n",
       "      <th></th>\n",
       "      <th></th>\n",
       "      <th></th>\n",
       "      <th></th>\n",
       "      <th></th>\n",
       "      <th></th>\n",
       "    </tr>\n",
       "  </thead>\n",
       "  <tbody>\n",
       "    <tr>\n",
       "      <th>-8076087639492063270</th>\n",
       "      <td>0</td>\n",
       "      <td>0</td>\n",
       "      <td>0</td>\n",
       "      <td>0</td>\n",
       "      <td>0</td>\n",
       "      <td>0</td>\n",
       "      <td>0</td>\n",
       "      <td>0</td>\n",
       "      <td>0</td>\n",
       "      <td>0</td>\n",
       "      <td>...</td>\n",
       "      <td>0</td>\n",
       "      <td>0</td>\n",
       "      <td>0</td>\n",
       "      <td>0</td>\n",
       "      <td>0</td>\n",
       "      <td>0</td>\n",
       "      <td>0</td>\n",
       "      <td>0</td>\n",
       "      <td>0</td>\n",
       "      <td>0</td>\n",
       "    </tr>\n",
       "    <tr>\n",
       "      <th>-2897161552818060146</th>\n",
       "      <td>0</td>\n",
       "      <td>0</td>\n",
       "      <td>0</td>\n",
       "      <td>0</td>\n",
       "      <td>0</td>\n",
       "      <td>0</td>\n",
       "      <td>0</td>\n",
       "      <td>0</td>\n",
       "      <td>0</td>\n",
       "      <td>0</td>\n",
       "      <td>...</td>\n",
       "      <td>0</td>\n",
       "      <td>0</td>\n",
       "      <td>0</td>\n",
       "      <td>0</td>\n",
       "      <td>0</td>\n",
       "      <td>0</td>\n",
       "      <td>0</td>\n",
       "      <td>0</td>\n",
       "      <td>0</td>\n",
       "      <td>0</td>\n",
       "    </tr>\n",
       "    <tr>\n",
       "      <th>-8260683887967679142</th>\n",
       "      <td>0</td>\n",
       "      <td>0</td>\n",
       "      <td>0</td>\n",
       "      <td>0</td>\n",
       "      <td>0</td>\n",
       "      <td>0</td>\n",
       "      <td>0</td>\n",
       "      <td>0</td>\n",
       "      <td>0</td>\n",
       "      <td>0</td>\n",
       "      <td>...</td>\n",
       "      <td>0</td>\n",
       "      <td>0</td>\n",
       "      <td>0</td>\n",
       "      <td>0</td>\n",
       "      <td>0</td>\n",
       "      <td>0</td>\n",
       "      <td>0</td>\n",
       "      <td>0</td>\n",
       "      <td>0</td>\n",
       "      <td>0</td>\n",
       "    </tr>\n",
       "    <tr>\n",
       "      <th>-4938849341048082022</th>\n",
       "      <td>0</td>\n",
       "      <td>0</td>\n",
       "      <td>0</td>\n",
       "      <td>0</td>\n",
       "      <td>0</td>\n",
       "      <td>0</td>\n",
       "      <td>0</td>\n",
       "      <td>0</td>\n",
       "      <td>0</td>\n",
       "      <td>0</td>\n",
       "      <td>...</td>\n",
       "      <td>0</td>\n",
       "      <td>0</td>\n",
       "      <td>0</td>\n",
       "      <td>0</td>\n",
       "      <td>0</td>\n",
       "      <td>0</td>\n",
       "      <td>0</td>\n",
       "      <td>0</td>\n",
       "      <td>0</td>\n",
       "      <td>0</td>\n",
       "    </tr>\n",
       "    <tr>\n",
       "      <th>245133531816851882</th>\n",
       "      <td>0</td>\n",
       "      <td>0</td>\n",
       "      <td>0</td>\n",
       "      <td>0</td>\n",
       "      <td>0</td>\n",
       "      <td>0</td>\n",
       "      <td>0</td>\n",
       "      <td>0</td>\n",
       "      <td>0</td>\n",
       "      <td>0</td>\n",
       "      <td>...</td>\n",
       "      <td>0</td>\n",
       "      <td>0</td>\n",
       "      <td>0</td>\n",
       "      <td>0</td>\n",
       "      <td>0</td>\n",
       "      <td>0</td>\n",
       "      <td>0</td>\n",
       "      <td>0</td>\n",
       "      <td>0</td>\n",
       "      <td>0</td>\n",
       "    </tr>\n",
       "  </tbody>\n",
       "</table>\n",
       "<p>5 rows × 1730 columns</p>\n",
       "</div>"
      ],
      "text/plain": [
       "                      phone_brand_E人E本  phone_brand_E派  phone_brand_HTC  \\\n",
       "device_id                                                                 \n",
       "-8076087639492063270                 0               0                0   \n",
       "-2897161552818060146                 0               0                0   \n",
       "-8260683887967679142                 0               0                0   \n",
       "-4938849341048082022                 0               0                0   \n",
       " 245133531816851882                  0               0                0   \n",
       "\n",
       "                      phone_brand_LG  phone_brand_LOGO  phone_brand_Lovme  \\\n",
       "device_id                                                                   \n",
       "-8076087639492063270               0                 0                  0   \n",
       "-2897161552818060146               0                 0                  0   \n",
       "-8260683887967679142               0                 0                  0   \n",
       "-4938849341048082022               0                 0                  0   \n",
       " 245133531816851882                0                 0                  0   \n",
       "\n",
       "                      phone_brand_MIL  phone_brand_OPPO  phone_brand_PPTV  \\\n",
       "device_id                                                                   \n",
       "-8076087639492063270                0                 0                 0   \n",
       "-2897161552818060146                0                 0                 0   \n",
       "-8260683887967679142                0                 0                 0   \n",
       "-4938849341048082022                0                 0                 0   \n",
       " 245133531816851882                 0                 0                 0   \n",
       "\n",
       "                      phone_brand_SUGAR          ...           \\\n",
       "device_id                                        ...            \n",
       "-8076087639492063270                  0          ...            \n",
       "-2897161552818060146                  0          ...            \n",
       "-8260683887967679142                  0          ...            \n",
       "-4938849341048082022                  0          ...            \n",
       " 245133531816851882                   0          ...            \n",
       "\n",
       "                      device_model_魅蓝Note3  device_model_魅蓝metal  \\\n",
       "device_id                                                          \n",
       "-8076087639492063270                     0                     0   \n",
       "-2897161552818060146                     0                     0   \n",
       "-8260683887967679142                     0                     0   \n",
       "-4938849341048082022                     0                     0   \n",
       " 245133531816851882                      0                     0   \n",
       "\n",
       "                      device_model_魔镜 X5  device_model_麦芒3  device_model_麦芒3S  \\\n",
       "device_id                                                                       \n",
       "-8076087639492063270                   0                 0                  0   \n",
       "-2897161552818060146                   0                 0                  0   \n",
       "-8260683887967679142                   0                 0                  0   \n",
       "-4938849341048082022                   0                 0                  0   \n",
       " 245133531816851882                    0                 0                  0   \n",
       "\n",
       "                      device_model_麦芒4  device_model_黄金斗士A8  \\\n",
       "device_id                                                     \n",
       "-8076087639492063270                 0                    0   \n",
       "-2897161552818060146                 0                    0   \n",
       "-8260683887967679142                 0                    0   \n",
       "-4938849341048082022                 0                    0   \n",
       " 245133531816851882                  0                    0   \n",
       "\n",
       "                      device_model_黄金斗士Note8  device_model_黄金斗士S8畅玩版  \\\n",
       "device_id                                                              \n",
       "-8076087639492063270                       0                       0   \n",
       "-2897161552818060146                       0                       0   \n",
       "-8260683887967679142                       0                       0   \n",
       "-4938849341048082022                       0                       0   \n",
       " 245133531816851882                        0                       0   \n",
       "\n",
       "                      device_model_黄金斗士青春版  \n",
       "device_id                                   \n",
       "-8076087639492063270                     0  \n",
       "-2897161552818060146                     0  \n",
       "-8260683887967679142                     0  \n",
       "-4938849341048082022                     0  \n",
       " 245133531816851882                      0  \n",
       "\n",
       "[5 rows x 1730 columns]"
      ]
     },
     "execution_count": 15,
     "metadata": {},
     "output_type": "execute_result"
    }
   ],
   "source": [
    "train_merge_brand.drop(columns=['gender', 'age', 'group'], inplace=True)\n",
    "train_merge_brand.head()"
   ]
  },
  {
   "cell_type": "markdown",
   "metadata": {},
   "source": [
    "#### Write to train_brand_matrix"
   ]
  },
  {
   "cell_type": "code",
   "execution_count": 16,
   "metadata": {},
   "outputs": [],
   "source": [
    "train_merge_brand.to_csv('../matrix_for_model/train_brand_matrix.csv')"
   ]
  },
  {
   "cell_type": "markdown",
   "metadata": {},
   "source": [
    "# Merge test and phone_brand"
   ]
  },
  {
   "cell_type": "code",
   "execution_count": 17,
   "metadata": {},
   "outputs": [
    {
     "name": "stdout",
     "output_type": "stream",
     "text": [
      "(112071, 1730)\n"
     ]
    },
    {
     "data": {
      "text/html": [
       "<div>\n",
       "<style scoped>\n",
       "    .dataframe tbody tr th:only-of-type {\n",
       "        vertical-align: middle;\n",
       "    }\n",
       "\n",
       "    .dataframe tbody tr th {\n",
       "        vertical-align: top;\n",
       "    }\n",
       "\n",
       "    .dataframe thead th {\n",
       "        text-align: right;\n",
       "    }\n",
       "</style>\n",
       "<table border=\"1\" class=\"dataframe\">\n",
       "  <thead>\n",
       "    <tr style=\"text-align: right;\">\n",
       "      <th></th>\n",
       "      <th>phone_brand_E人E本</th>\n",
       "      <th>phone_brand_E派</th>\n",
       "      <th>phone_brand_HTC</th>\n",
       "      <th>phone_brand_LG</th>\n",
       "      <th>phone_brand_LOGO</th>\n",
       "      <th>phone_brand_Lovme</th>\n",
       "      <th>phone_brand_MIL</th>\n",
       "      <th>phone_brand_OPPO</th>\n",
       "      <th>phone_brand_PPTV</th>\n",
       "      <th>phone_brand_SUGAR</th>\n",
       "      <th>...</th>\n",
       "      <th>device_model_魅蓝Note3</th>\n",
       "      <th>device_model_魅蓝metal</th>\n",
       "      <th>device_model_魔镜 X5</th>\n",
       "      <th>device_model_麦芒3</th>\n",
       "      <th>device_model_麦芒3S</th>\n",
       "      <th>device_model_麦芒4</th>\n",
       "      <th>device_model_黄金斗士A8</th>\n",
       "      <th>device_model_黄金斗士Note8</th>\n",
       "      <th>device_model_黄金斗士S8畅玩版</th>\n",
       "      <th>device_model_黄金斗士青春版</th>\n",
       "    </tr>\n",
       "    <tr>\n",
       "      <th>device_id</th>\n",
       "      <th></th>\n",
       "      <th></th>\n",
       "      <th></th>\n",
       "      <th></th>\n",
       "      <th></th>\n",
       "      <th></th>\n",
       "      <th></th>\n",
       "      <th></th>\n",
       "      <th></th>\n",
       "      <th></th>\n",
       "      <th></th>\n",
       "      <th></th>\n",
       "      <th></th>\n",
       "      <th></th>\n",
       "      <th></th>\n",
       "      <th></th>\n",
       "      <th></th>\n",
       "      <th></th>\n",
       "      <th></th>\n",
       "      <th></th>\n",
       "      <th></th>\n",
       "    </tr>\n",
       "  </thead>\n",
       "  <tbody>\n",
       "    <tr>\n",
       "      <th>1002079943728939269</th>\n",
       "      <td>0</td>\n",
       "      <td>0</td>\n",
       "      <td>0</td>\n",
       "      <td>0</td>\n",
       "      <td>0</td>\n",
       "      <td>0</td>\n",
       "      <td>0</td>\n",
       "      <td>0</td>\n",
       "      <td>0</td>\n",
       "      <td>0</td>\n",
       "      <td>...</td>\n",
       "      <td>0</td>\n",
       "      <td>0</td>\n",
       "      <td>0</td>\n",
       "      <td>0</td>\n",
       "      <td>0</td>\n",
       "      <td>0</td>\n",
       "      <td>0</td>\n",
       "      <td>0</td>\n",
       "      <td>0</td>\n",
       "      <td>0</td>\n",
       "    </tr>\n",
       "    <tr>\n",
       "      <th>-1547860181818787117</th>\n",
       "      <td>0</td>\n",
       "      <td>0</td>\n",
       "      <td>0</td>\n",
       "      <td>0</td>\n",
       "      <td>0</td>\n",
       "      <td>0</td>\n",
       "      <td>0</td>\n",
       "      <td>0</td>\n",
       "      <td>0</td>\n",
       "      <td>0</td>\n",
       "      <td>...</td>\n",
       "      <td>0</td>\n",
       "      <td>0</td>\n",
       "      <td>0</td>\n",
       "      <td>0</td>\n",
       "      <td>0</td>\n",
       "      <td>0</td>\n",
       "      <td>0</td>\n",
       "      <td>0</td>\n",
       "      <td>0</td>\n",
       "      <td>0</td>\n",
       "    </tr>\n",
       "    <tr>\n",
       "      <th>7374582448058474277</th>\n",
       "      <td>0</td>\n",
       "      <td>0</td>\n",
       "      <td>0</td>\n",
       "      <td>0</td>\n",
       "      <td>0</td>\n",
       "      <td>0</td>\n",
       "      <td>0</td>\n",
       "      <td>0</td>\n",
       "      <td>0</td>\n",
       "      <td>0</td>\n",
       "      <td>...</td>\n",
       "      <td>0</td>\n",
       "      <td>0</td>\n",
       "      <td>0</td>\n",
       "      <td>0</td>\n",
       "      <td>0</td>\n",
       "      <td>0</td>\n",
       "      <td>0</td>\n",
       "      <td>0</td>\n",
       "      <td>0</td>\n",
       "      <td>0</td>\n",
       "    </tr>\n",
       "    <tr>\n",
       "      <th>-6220210354783429585</th>\n",
       "      <td>0</td>\n",
       "      <td>0</td>\n",
       "      <td>0</td>\n",
       "      <td>0</td>\n",
       "      <td>0</td>\n",
       "      <td>0</td>\n",
       "      <td>0</td>\n",
       "      <td>0</td>\n",
       "      <td>0</td>\n",
       "      <td>0</td>\n",
       "      <td>...</td>\n",
       "      <td>0</td>\n",
       "      <td>0</td>\n",
       "      <td>0</td>\n",
       "      <td>0</td>\n",
       "      <td>0</td>\n",
       "      <td>0</td>\n",
       "      <td>0</td>\n",
       "      <td>0</td>\n",
       "      <td>0</td>\n",
       "      <td>0</td>\n",
       "    </tr>\n",
       "    <tr>\n",
       "      <th>-5893464122623104785</th>\n",
       "      <td>0</td>\n",
       "      <td>0</td>\n",
       "      <td>0</td>\n",
       "      <td>0</td>\n",
       "      <td>0</td>\n",
       "      <td>0</td>\n",
       "      <td>0</td>\n",
       "      <td>0</td>\n",
       "      <td>0</td>\n",
       "      <td>0</td>\n",
       "      <td>...</td>\n",
       "      <td>0</td>\n",
       "      <td>0</td>\n",
       "      <td>0</td>\n",
       "      <td>0</td>\n",
       "      <td>0</td>\n",
       "      <td>0</td>\n",
       "      <td>0</td>\n",
       "      <td>0</td>\n",
       "      <td>0</td>\n",
       "      <td>0</td>\n",
       "    </tr>\n",
       "  </tbody>\n",
       "</table>\n",
       "<p>5 rows × 1730 columns</p>\n",
       "</div>"
      ],
      "text/plain": [
       "                      phone_brand_E人E本  phone_brand_E派  phone_brand_HTC  \\\n",
       "device_id                                                                 \n",
       " 1002079943728939269                 0               0                0   \n",
       "-1547860181818787117                 0               0                0   \n",
       " 7374582448058474277                 0               0                0   \n",
       "-6220210354783429585                 0               0                0   \n",
       "-5893464122623104785                 0               0                0   \n",
       "\n",
       "                      phone_brand_LG  phone_brand_LOGO  phone_brand_Lovme  \\\n",
       "device_id                                                                   \n",
       " 1002079943728939269               0                 0                  0   \n",
       "-1547860181818787117               0                 0                  0   \n",
       " 7374582448058474277               0                 0                  0   \n",
       "-6220210354783429585               0                 0                  0   \n",
       "-5893464122623104785               0                 0                  0   \n",
       "\n",
       "                      phone_brand_MIL  phone_brand_OPPO  phone_brand_PPTV  \\\n",
       "device_id                                                                   \n",
       " 1002079943728939269                0                 0                 0   \n",
       "-1547860181818787117                0                 0                 0   \n",
       " 7374582448058474277                0                 0                 0   \n",
       "-6220210354783429585                0                 0                 0   \n",
       "-5893464122623104785                0                 0                 0   \n",
       "\n",
       "                      phone_brand_SUGAR          ...           \\\n",
       "device_id                                        ...            \n",
       " 1002079943728939269                  0          ...            \n",
       "-1547860181818787117                  0          ...            \n",
       " 7374582448058474277                  0          ...            \n",
       "-6220210354783429585                  0          ...            \n",
       "-5893464122623104785                  0          ...            \n",
       "\n",
       "                      device_model_魅蓝Note3  device_model_魅蓝metal  \\\n",
       "device_id                                                          \n",
       " 1002079943728939269                     0                     0   \n",
       "-1547860181818787117                     0                     0   \n",
       " 7374582448058474277                     0                     0   \n",
       "-6220210354783429585                     0                     0   \n",
       "-5893464122623104785                     0                     0   \n",
       "\n",
       "                      device_model_魔镜 X5  device_model_麦芒3  device_model_麦芒3S  \\\n",
       "device_id                                                                       \n",
       " 1002079943728939269                   0                 0                  0   \n",
       "-1547860181818787117                   0                 0                  0   \n",
       " 7374582448058474277                   0                 0                  0   \n",
       "-6220210354783429585                   0                 0                  0   \n",
       "-5893464122623104785                   0                 0                  0   \n",
       "\n",
       "                      device_model_麦芒4  device_model_黄金斗士A8  \\\n",
       "device_id                                                     \n",
       " 1002079943728939269                 0                    0   \n",
       "-1547860181818787117                 0                    0   \n",
       " 7374582448058474277                 0                    0   \n",
       "-6220210354783429585                 0                    0   \n",
       "-5893464122623104785                 0                    0   \n",
       "\n",
       "                      device_model_黄金斗士Note8  device_model_黄金斗士S8畅玩版  \\\n",
       "device_id                                                              \n",
       " 1002079943728939269                       0                       0   \n",
       "-1547860181818787117                       0                       0   \n",
       " 7374582448058474277                       0                       0   \n",
       "-6220210354783429585                       0                       0   \n",
       "-5893464122623104785                       0                       0   \n",
       "\n",
       "                      device_model_黄金斗士青春版  \n",
       "device_id                                   \n",
       " 1002079943728939269                     0  \n",
       "-1547860181818787117                     0  \n",
       " 7374582448058474277                     0  \n",
       "-6220210354783429585                     0  \n",
       "-5893464122623104785                     0  \n",
       "\n",
       "[5 rows x 1730 columns]"
      ]
     },
     "execution_count": 17,
     "metadata": {},
     "output_type": "execute_result"
    }
   ],
   "source": [
    "test_merge_brand = df_test.merge(df_brand, on='device_id', how='left')\n",
    "test_merge_brand.set_index('device_id', inplace=True)\n",
    "print(test_merge_brand.shape)\n",
    "test_merge_brand.head()"
   ]
  },
  {
   "cell_type": "markdown",
   "metadata": {},
   "source": [
    "#### Write to test_brand_matrix"
   ]
  },
  {
   "cell_type": "code",
   "execution_count": 22,
   "metadata": {},
   "outputs": [],
   "source": [
    "test_merge_brand.to_csv('../matrix_for_model/test_brand_matrix.csv')"
   ]
  }
 ],
 "metadata": {
  "kernelspec": {
   "display_name": "Python 3",
   "language": "python",
   "name": "python3"
  },
  "language_info": {
   "codemirror_mode": {
    "name": "ipython",
    "version": 3
   },
   "file_extension": ".py",
   "mimetype": "text/x-python",
   "name": "python",
   "nbconvert_exporter": "python",
   "pygments_lexer": "ipython3",
   "version": "3.6.5"
  }
 },
 "nbformat": 4,
 "nbformat_minor": 2
}
